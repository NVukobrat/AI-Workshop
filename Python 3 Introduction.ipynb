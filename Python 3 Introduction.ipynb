{
 "cells": [
  {
   "cell_type": "markdown",
   "metadata": {},
   "source": [
    "### What is Python?\n",
    "Python is a multi-purpose programming language. It could be used for:\n",
    "- AI => ML/CV/NLP/Robotics\n",
    "- Data Analysis\n",
    "- Web/Mobile/Desktop apps\n",
    "- Hacking\n",
    "\n",
    "Python is widely used because it is:\n",
    "- High-level Language\n",
    "- Cross-platform\n",
    "- Has a Huge Community\n",
    "- Has a Large Ecosystem\n",
    "\n",
    "### How to install Python 3?\n",
    "**Windows:** Download and install Python 3 from [this](https://www.python.org/downloads/windows/) link.\n",
    "\n",
    "**Linux:** Python 2 comes pre-installed on Linux OS. To install Python 3 on Linux Ubuntu OS, just run the next line:\n",
    "```bash\n",
    "sudo apt-get install python3\n",
    "```\n",
    "\n",
    "**Mac:** Same as on Linux, Python 2 comes pre-installed on Mac OS. To install Python 3 on MAC OS X, just run the next line:\n",
    "```bash\n",
    "brew install python3\n",
    "```\n",
    "\n",
    "### How to write Python?\n",
    "You can write Python in the terminal if you use Linux or Mac, or within PowerShell, if you are using Windows. But, more often, you will use some kind of code editor or IDE. \n",
    "\n",
    "A **code editor** is a simple text-based editor (sometimes with colorful representation to make it easier to read and write a code) where you can just write your code and execute it from the editor or via terminal command prompt. Some popular code editors are Visual Studio Code, Sublime Text and Atom.\n",
    "\n",
    "On the other hand, the **IDE (Integrated Development Environment)** is similar to the code editor, with additional features like autocompletion, debugging and testing capabilities. One of the most popular IDEs for Python development is PyCharm.\n",
    "\n",
    "### Behind the language\n",
    "Python as the language started his development cycle in the early 1991. by programmer Guido van Rossum.\n",
    "\n",
    "Python is originally constructed as interpreter language, but as it evolved, it gradually employs compiling capabilities. Depending on the industry and problem, today it is used in both ways.\n",
    "\n",
    "As a non-common practice between other languages, Python has a couple of popular implementations in a couple of languages. The most popular and widely used is **CPython**, written in C and Python. Other popular implementations are:\n",
    "- Jython - Java\n",
    "- IronPython - C#\n",
    "- PyPy - Subset of Python\n",
    "\n",
    "However, all the above implementations rely on CPython implementation. Here one question arises: \"What is the point of having and using different implementations?\". Well, depending on your problem, you could choose which implementation suits you the best. What are benefits from different implementations, is that for example in Jython you can write Python code, as well as Java code and execute them together. It is the same story for IronPython (C#) and other implementations.\n",
    "\n",
    " \n",
    "### How Python code is executed?\n",
    "When a machine needs to execute code it cannot understand the language in which we write (C for example). That language needs to be compiled to the machine code (0 && 1) for the CPU to execute it. The problem here is that C compiled code is only compatible with the specific OS and CPU instructions. That means that C code compiled on Windows, will not work on Mac.\n",
    "\n",
    "Java language managed to solve this problem by not compiling directly to the machine code. Instead, Java compiles to the Java Bytecode which is not specific for any type of hardware and OS. However, it is still needed to compile to the machine code for CPU to execute it. So, Java also uses Java Virtual Machine (JVM) which in the runtime compiles Bytecode to the machine code. Having this, the same compiled Java Bytecode could be run in different OS. The only difference between OS is JVM (for Linux, Windows, Mac).\n",
    "\n",
    "Similar to Java, Python uses CPython to compile to the Python Bytecode, then Python Virtual Machine compiles in the runtime Bytecode to machine code which CPU executes."
   ]
  },
  {
   "cell_type": "markdown",
   "metadata": {},
   "source": [
    "### Base variables type"
   ]
  },
  {
   "cell_type": "code",
   "execution_count": 1,
   "metadata": {},
   "outputs": [
    {
     "name": "stdout",
     "output_type": "stream",
     "text": [
      "9\n",
      "5\n",
      "83\n",
      "243\n",
      "3.14159\n",
      "0.0069\n",
      "True\n",
      "I love Python!\n",
      "\n",
      "I\n",
      "love\n",
      "Python\n",
      "!\n",
      "\n",
      "b'\\xf3\\xd63'\n",
      "1 0\n",
      "3 3\n"
     ]
    }
   ],
   "source": [
    "integer_var = 9\n",
    "print(integer_var)\n",
    "\n",
    "binary_var = 0b0101\n",
    "print(binary_var)\n",
    "\n",
    "octal_var = 0o123\n",
    "print(octal_var)\n",
    "\n",
    "hex_var = 0xF3\n",
    "print(hex_var)\n",
    "\n",
    "float_var = 3.14159\n",
    "print(float_var)\n",
    "\n",
    "exponent_var = 6.9e-3\n",
    "print(exponent_var)\n",
    "\n",
    "boolean_var = True\n",
    "print(boolean_var)\n",
    "\n",
    "string_var = \"I love Python!\"\n",
    "print(string_var)\n",
    "\n",
    "multi_line_string_var = \"\"\"\n",
    "I\n",
    "love\n",
    "Python\n",
    "!\n",
    "\"\"\"\n",
    "print(multi_line_string_var)\n",
    "\n",
    "byte_var = b\"\\xf3\\xd6\\63\"\n",
    "print(byte_var)\n",
    "\n",
    "first, second = 0, 1\n",
    "print(second, first)\n",
    "\n",
    "some_var = same_var = 3\n",
    "print(some_var, same_var)"
   ]
  },
  {
   "cell_type": "markdown",
   "metadata": {},
   "source": [
    "### Printing and formating"
   ]
  },
  {
   "cell_type": "code",
   "execution_count": 2,
   "metadata": {},
   "outputs": [
    {
     "name": "stdout",
     "output_type": "stream",
     "text": [
      "Hello World!\n",
      "Nice 3 way 6 to 9 format\n",
      "Nice 9 way 3 to 6 format\n"
     ]
    }
   ],
   "source": [
    "print(\"Hello World!\")\n",
    "print(\"Nice {} way {} to {} format\".format(3, 6, 9))\n",
    "print(\"Nice {2} way {0} to {1} format\".format(3, 6, 9))"
   ]
  },
  {
   "cell_type": "markdown",
   "metadata": {},
   "source": [
    "### Type conversions"
   ]
  },
  {
   "cell_type": "code",
   "execution_count": 3,
   "metadata": {},
   "outputs": [
    {
     "name": "stdout",
     "output_type": "stream",
     "text": [
      "15\n",
      "241\n",
      "9\n",
      "3.69\n",
      "6.9\n",
      "False\n",
      "True\n",
      "61\n",
      "A\n",
      "b'\\x00\\x01\\x02ABC'\n",
      "['P', 'y', 't', 'h', 'o', 'n']\n",
      "{'first': 0, 'second': 1, 'third': 2}\n",
      "{1, 2, 3}\n"
     ]
    }
   ],
   "source": [
    "print(int(\"15\"))  # 15\n",
    "print(int(\"f1\", 16))  # 241\n",
    "print(int(9.369))  # 9\n",
    "print(float(\"3.69\"))  # 3.69\n",
    "print(round(6.931, 1))  # 6.9\n",
    "print(bool())  # False\n",
    "print(bool(1))  # True\n",
    "print(str(61))  # 61\n",
    "print(chr(65))  # A (ASCII)\n",
    "print(bytes([0, 1, 2, 65, 66, 67]))  # b'\\x00\\x01\\x02ABC'\n",
    "print(list(\"Python\"))  # ['P', 'y', 't', 'h', 'o', 'n']\n",
    "print(dict([(\"first\", 0), (\"second\", 1), (\"third\", 2)]))  # {'first': 0, 'second': 1, 'third': 2}\n",
    "print(set([1, 2, 3]))  # {1, 2, 3}"
   ]
  },
  {
   "cell_type": "markdown",
   "metadata": {},
   "source": [
    "### Container variable types (collections)\n",
    "There are four collection data types in the Python:\n",
    "- **Lists** are ordered and changeable. Allows duplicate members.\n",
    "- **Tuples** are ordered and unchangeable. Allows duplicate members.\n",
    "- **Sets** are unordered and unindexed. No duplicate members.\n",
    "- **Dictionaries** are unordered, changeable and indexed. No duplicate members."
   ]
  },
  {
   "cell_type": "code",
   "execution_count": 4,
   "metadata": {
    "scrolled": true
   },
   "outputs": [
    {
     "name": "stdout",
     "output_type": "stream",
     "text": [
      "['first', 'second', 'third']\n",
      "('first', 'second', 'third')\n",
      "{'second', 'third', 'first'}\n",
      "{'first': 0, 'second': 1, 'third': 2}\n"
     ]
    }
   ],
   "source": [
    "# Lists\n",
    "py_list = [\"first\", \"second\", \"third\"]  # list()\n",
    "print(py_list)\n",
    "\n",
    "# Tuples\n",
    "py_tuple = (\"first\", \"second\", \"third\")  # tuple()\n",
    "print(py_tuple)\n",
    "\n",
    "# Sets\n",
    "py_set = {\"first\", \"second\", \"third\"}  # set()\n",
    "print(py_set)\n",
    "\n",
    "# Dictionaries\n",
    "py_dict = {\n",
    "    \"first\": 0,\n",
    "    \"second\": 1,\n",
    "    \"third\": 2,\n",
    "}  # dict()\n",
    "print(py_dict)"
   ]
  },
  {
   "cell_type": "markdown",
   "metadata": {},
   "source": [
    "### Additional collection functions"
   ]
  },
  {
   "cell_type": "markdown",
   "metadata": {},
   "source": [
    "| Type | Method | Description  |\n",
    "|:-:|:-:|:-:|\n",
    "| Lists | | |\n",
    "| | append() | Adds an element at the end of the list |\n",
    "| | clear() | Removes all the elements from the list |\n",
    "| | copy() | Returns a copy of the list |\n",
    "| | count() | Returns the number of elements with the specified value |\n",
    "| | extend() | Add the elements of a list (or any iterable), to the end of the current list |\n",
    "| | index() | Returns the index of the first element with the specified value |\n",
    "| | insert() | Adds an element at the specified position |\n",
    "| | pop() | Removes the element at the specified position |\n",
    "| | remove() | Removes the item with the specified value |\n",
    "| | reverse() | Reverses the order of the list |\n",
    "| | sort() | Sorts the list |\n",
    "| Tuples | |  |\n",
    "| | count() | Returns the number of times a specified value occurs in a tuple |\n",
    "| | index() | Searches the tuple for a specified value and returns the position of where it is |\n",
    "| Sets | |  |\n",
    "| | add() | Adds an element to the set |\n",
    "| | clear() | Removes all the elements from the set |\n",
    "| | copy() | Returns a copy of the set |\n",
    "| | difference() | Returns a set containing the difference between two or more sets |\n",
    "| | difference_update() | Removes the items in this set that are also included in another, specified set |\n",
    "| | discard() | Remove the specified item |\n",
    "| | intersection() | Returns a set, that is the intersection of two other sets |\n",
    "| | intersection_update() | Removes the items in this set that are not present in other, specified set(s) |\n",
    "| | isdisjoint() | Returns whether two sets have a intersection or not |\n",
    "| | issubset() | Returns whether another set contains this set or not |\n",
    "| | issuperset() | Returns whether this set contains another set or not |\n",
    "| | pop() | Removes an element from the set |\n",
    "| | remove() | Removes the specified element |\n",
    "| | symmetric_difference() | Returns a set with the symmetric differences of two sets |\n",
    "| | symmetric_difference_update() | inserts the symmetric differences from this set and another |\n",
    "| | union() | Return a set containing the union of sets |\n",
    "| | update() | Update the set with the union of this set and others |\n",
    "| Dictionaries | |  |\n",
    "| | clear() | Removes all the elements from the dictionary |\n",
    "| | copy() | Returns a copy of the dictionary |\n",
    "| | fromkeys() | Returns a dictionary with the specified keys and values |\n",
    "| | get() | Returns the value of the specified key |\n",
    "| | items() | Returns a list containing a tuple for each key value pair |\n",
    "| | keys() | Returns a list containing the dictionary's keys |\n",
    "| | pop() | Removes the element with the specified key |\n",
    "| | popitem() | Removes the last inserted key-value pair |\n",
    "| | setdefault() | Returns the value of the specified key. If the key does not exist: insert the key, with the specified value |\n",
    "| | update() | Updates the dictionary with the specified key-value pairs |\n",
    "| | values() | Returns a list of all the values in the dictionary |"
   ]
  },
  {
   "cell_type": "markdown",
   "metadata": {},
   "source": [
    "### Indexing"
   ]
  },
  {
   "cell_type": "code",
   "execution_count": 5,
   "metadata": {},
   "outputs": [
    {
     "name": "stdout",
     "output_type": "stream",
     "text": [
      "1\n",
      "5\n",
      "[1, 2, 3, 4, 5]\n",
      "[4, 5]\n",
      "[1, 2, 3]\n",
      "[1, 2, 3, 4]\n",
      "[2, 3, 4]\n",
      "[1, 3, 5]\n",
      "[5, 3, 1]\n"
     ]
    }
   ],
   "source": [
    "index_list = [1, 2, 3, 4, 5]\n",
    "print(index_list[0])  # First => 1\n",
    "print(index_list[-1])  # Last => 5\n",
    "print(index_list[:])  # Whole list => [1, 2, 3, 4, 5]\n",
    "print(index_list[3:])  # From third => [4, 5]\n",
    "print(index_list[:3])  # Until the third => [1, 2, 3]\n",
    "print(index_list[:-1])  # Until the last => [1, 2, 3, 4]\n",
    "print(index_list[1:-1])  # From first until the last => [2, 3, 4]\n",
    "print(index_list[::2])  # Every second => [1, 3, 5]\n",
    "print(index_list[::-2])  # Every second starting from the end => [5, 3, 1]"
   ]
  },
  {
   "cell_type": "markdown",
   "metadata": {},
   "source": [
    "### Boolean operators"
   ]
  },
  {
   "cell_type": "code",
   "execution_count": 6,
   "metadata": {},
   "outputs": [
    {
     "name": "stdout",
     "output_type": "stream",
     "text": [
      "False\n",
      "True\n",
      "False\n"
     ]
    }
   ],
   "source": [
    "boolean_true_var = True\n",
    "boolean_false_var = False\n",
    "print(boolean_true_var and boolean_false_var)\n",
    "print(boolean_true_var or boolean_false_var)\n",
    "print(not boolean_true_var)"
   ]
  },
  {
   "cell_type": "markdown",
   "metadata": {},
   "source": [
    "### Statements\n",
    "Like in most other languages Python doesn't have curly-brackets ( { and } ) that define the beginning and end of the statement. It uses 4 spaces to separate different levels of statements."
   ]
  },
  {
   "cell_type": "code",
   "execution_count": 7,
   "metadata": {},
   "outputs": [],
   "source": [
    "# First block\n",
    "#     First Inner Block\n",
    "#     Second Inner Block\n",
    "# Second Block\n",
    "#     First Inner Block\n",
    "#         First Inner Inner Block\n",
    "#     Second Inner Block\n",
    "# Third Block\n",
    "# Fourth Block"
   ]
  },
  {
   "cell_type": "markdown",
   "metadata": {},
   "source": [
    "### Importing modules\n",
    "You can import the whole module, as math in this example. Or, you can import directly custom functions from each module and use them without noting the root package name (like in the example of log and sqrt functions)."
   ]
  },
  {
   "cell_type": "code",
   "execution_count": 8,
   "metadata": {},
   "outputs": [
    {
     "name": "stdout",
     "output_type": "stream",
     "text": [
      "3.141592653589793\n",
      "0.7071067811865476\n",
      "3.0\n",
      "3.0000000000000004\n"
     ]
    }
   ],
   "source": [
    "import math\n",
    "\n",
    "print(math.pi)\n",
    "print(math.sin(math.pi / 4))\n",
    "\n",
    "from math import sqrt, log\n",
    "\n",
    "print(sqrt(9))\n",
    "print(log(216, 6))"
   ]
  },
  {
   "cell_type": "markdown",
   "metadata": {},
   "source": [
    "### Arithmetic operations"
   ]
  },
  {
   "cell_type": "code",
   "execution_count": 9,
   "metadata": {},
   "outputs": [
    {
     "name": "stdout",
     "output_type": "stream",
     "text": [
      "14\n",
      "8\n",
      "33\n",
      "3.6666666666666665\n",
      "3\n",
      "2\n",
      "1331\n"
     ]
    }
   ],
   "source": [
    "print(11 + 3)\n",
    "print(11 - 3)\n",
    "print(11 * 3)\n",
    "print(11 / 3)\n",
    "print(11 // 3)  # int division (without reminder)\n",
    "print(11 % 3)  # modulo (division reminder)\n",
    "print(11 ** 3)  # power (a ^ b)"
   ]
  },
  {
   "cell_type": "markdown",
   "metadata": {},
   "source": [
    "### Conditional statements"
   ]
  },
  {
   "cell_type": "code",
   "execution_count": 10,
   "metadata": {},
   "outputs": [
    {
     "name": "stdout",
     "output_type": "stream",
     "text": [
      "Bigger then 10\n"
     ]
    }
   ],
   "source": [
    "integer_var = 11\n",
    "if integer_var > 10:\n",
    "    print(\"Bigger then 10\")\n",
    "elif integer_var <= 10:\n",
    "    print(\"Smaller or Equal to 10\")\n",
    "else:\n",
    "    print(\"Is this integer variable?\")"
   ]
  },
  {
   "cell_type": "markdown",
   "metadata": {},
   "source": [
    "### Iterative loop"
   ]
  },
  {
   "cell_type": "code",
   "execution_count": 11,
   "metadata": {},
   "outputs": [
    {
     "name": "stdout",
     "output_type": "stream",
     "text": [
      "0 1 2 \n",
      "0 1 2 \n",
      "0 \n",
      "first second third \n"
     ]
    }
   ],
   "source": [
    "for i in range(3):\n",
    "    print(i, end=' ')\n",
    "print()\n",
    "\n",
    "for i in range(0, 3):\n",
    "    print(i, end=' ')\n",
    "print()\n",
    "\n",
    "for i in range(0, 2, 10):\n",
    "    print(i, end=' ')\n",
    "print()\n",
    "\n",
    "loop_array = [\"first\", \"second\", \"third\"]\n",
    "for i in loop_array:\n",
    "    print(i, end=' ')\n",
    "print()"
   ]
  },
  {
   "cell_type": "markdown",
   "metadata": {},
   "source": [
    "### Conditional loop"
   ]
  },
  {
   "cell_type": "code",
   "execution_count": 12,
   "metadata": {},
   "outputs": [
    {
     "name": "stdout",
     "output_type": "stream",
     "text": [
      "4950\n",
      "100\n"
     ]
    }
   ],
   "source": [
    "summation_var = 0\n",
    "iterative_var = 0\n",
    "\n",
    "while iterative_var < 100:\n",
    "    summation_var += iterative_var\n",
    "    iterative_var += 1\n",
    "    \n",
    "print(summation_var)\n",
    "print(iterative_var)"
   ]
  },
  {
   "cell_type": "markdown",
   "metadata": {},
   "source": [
    "### Generic Operations"
   ]
  },
  {
   "cell_type": "code",
   "execution_count": 13,
   "metadata": {},
   "outputs": [
    {
     "name": "stdout",
     "output_type": "stream",
     "text": [
      "3\n",
      "1\n",
      "3\n",
      "6\n",
      "False\n",
      "True\n",
      "Element on 0 is first\n",
      "Element on 1 is second\n",
      "Element on 2 is third\n",
      "[(1, 'first'), (2, 'second'), (3, 'third')]\n"
     ]
    }
   ],
   "source": [
    "example_int_array = [1, 2, 3]\n",
    "example_string_array = [\"first\", \"second\", \"third\"]\n",
    "\n",
    "print(len(example_int_array))\n",
    "print(min(example_int_array))\n",
    "print(max(example_int_array))\n",
    "print(sum(example_int_array))\n",
    "print(\"first\" in example_int_array)\n",
    "print(\"first\" in example_string_array)\n",
    "\n",
    "for i, e in enumerate(example_string_array):\n",
    "    print(\"Element on\", i, \"is\", e)\n",
    "\n",
    "zipped_array = zip(example_int_array, example_string_array)\n",
    "print(list(zipped_array))"
   ]
  },
  {
   "cell_type": "markdown",
   "metadata": {},
   "source": [
    "### Functions\n",
    "If you do not know how many arguments that will be passed into your function, add a * before the parameter name in the function definition. This way the function will receive a tuple of argument. Similary, you can pass a dictionary instead of a tuple by using the ** parameter before the argument name."
   ]
  },
  {
   "cell_type": "code",
   "execution_count": 14,
   "metadata": {},
   "outputs": [
    {
     "name": "stdout",
     "output_type": "stream",
     "text": [
      "9\n",
      "(9, -3)\n",
      "3 6 9\n",
      "()\n",
      "{}\n",
      "(9, -3)\n"
     ]
    }
   ],
   "source": [
    "def addition(x, y):\n",
    "    \"\"\"\n",
    "    Documentation for addition.\n",
    "\n",
    "    :param x:\n",
    "    :param y:\n",
    "    :return:\n",
    "    \"\"\"\n",
    "    return x + y\n",
    "\n",
    "\n",
    "def addition_subtraction(x, y):\n",
    "    \"\"\"\n",
    "    Documentation for addiction and subtraction.\n",
    "\n",
    "    :param x:\n",
    "    :param y:\n",
    "    :return:\n",
    "    \"\"\"\n",
    "    return x + y, x - y\n",
    "\n",
    "\n",
    "def arg_function(x, y, z=9, *args, **kwargs):\n",
    "    \"\"\"\n",
    "    Function with different input types.\n",
    "\n",
    "    :param x:\n",
    "    :param y:\n",
    "    :param z: default value\n",
    "    :param args: tuple\n",
    "    :param kwargs: dict\n",
    "    :return:\n",
    "    \"\"\"\n",
    "    print(x, y, z)\n",
    "    print(args)\n",
    "    print(kwargs)\n",
    "\n",
    "\n",
    "print(addition(3, 6))\n",
    "print(addition_subtraction(3, 6))\n",
    "arg_function(3, 6)\n",
    "print(addition_subtraction(y=6, x=3))"
   ]
  },
  {
   "cell_type": "markdown",
   "metadata": {},
   "source": [
    "### Exceptions"
   ]
  },
  {
   "cell_type": "code",
   "execution_count": 15,
   "metadata": {},
   "outputs": [
    {
     "name": "stdout",
     "output_type": "stream",
     "text": [
      "Oops! Zero division detected!\n"
     ]
    }
   ],
   "source": [
    "try:\n",
    "    exception_source = 1 / 0\n",
    "except ZeroDivisionError:\n",
    "    print(\"Oops! Zero division detected!\")"
   ]
  },
  {
   "cell_type": "markdown",
   "metadata": {},
   "source": [
    "### File operations"
   ]
  },
  {
   "cell_type": "code",
   "execution_count": 16,
   "metadata": {},
   "outputs": [
    {
     "name": "stdout",
     "output_type": "stream",
     "text": [
      "0) I love Python!\n",
      "1) I love Python!\n",
      "2) I love Python!\n",
      "3) I love Python!\n",
      "4) I love Python!\n",
      "5) I love Python!\n",
      "\n"
     ]
    }
   ],
   "source": [
    "f = open(\"example.txt\", \"w\", encoding=\"utf8\")\n",
    "for i in range(6):\n",
    "    f.write(\"{}) I love Python!\\n\".format(i))\n",
    "f.close()\n",
    "\n",
    "f = open(\"example.txt\", \"r\", encoding=\"utf8\")\n",
    "print(f.read())"
   ]
  },
  {
   "cell_type": "markdown",
   "metadata": {},
   "source": [
    "### Classes"
   ]
  },
  {
   "cell_type": "code",
   "execution_count": 17,
   "metadata": {},
   "outputs": [
    {
     "name": "stdout",
     "output_type": "stream",
     "text": [
      "Hello my name is John, and my surname is Smit, age 33!\n"
     ]
    }
   ],
   "source": [
    "class Person:\n",
    "    def __init__(self, name, surname, age):\n",
    "        self.name = name\n",
    "        self.surname = surname\n",
    "        self.age = age\n",
    "\n",
    "    def say_hello(self):\n",
    "        print(\"Hello my name is {}, and my surname is {}, age {}!\".format(self.name, self.surname, self.age))\n",
    "\n",
    "\n",
    "p = Person(\"John\", \"Smit\", 33)\n",
    "p.say_hello()"
   ]
  }
 ],
 "metadata": {
  "kernelspec": {
   "display_name": "Python 3",
   "language": "python",
   "name": "python3"
  },
  "language_info": {
   "codemirror_mode": {
    "name": "ipython",
    "version": 3
   },
   "file_extension": ".py",
   "mimetype": "text/x-python",
   "name": "python",
   "nbconvert_exporter": "python",
   "pygments_lexer": "ipython3",
   "version": "3.7.4"
  }
 },
 "nbformat": 4,
 "nbformat_minor": 2
}
