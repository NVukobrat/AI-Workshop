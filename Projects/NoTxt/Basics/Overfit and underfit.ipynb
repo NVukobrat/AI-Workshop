{
  "nbformat": 4,
  "nbformat_minor": 0,
  "metadata": {
    "accelerator": "GPU",
    "colab": {
      "name": "Overfit and underfit.ipynb",
      "provenance": [],
      "collapsed_sections": [],
      "toc_visible": true,
      "machine_shape": "hm"
    },
    "kernelspec": {
      "name": "python3",
      "display_name": "Python 3"
    },
    "language_info": {
      "codemirror_mode": {
        "name": "ipython",
        "version": 3
      },
      "file_extension": ".py",
      "mimetype": "text/x-python",
      "name": "python",
      "nbconvert_exporter": "python",
      "pygments_lexer": "ipython3",
      "version": "3.6.8"
    }
  },
  "cells": [
    {
      "cell_type": "markdown",
      "metadata": {
        "colab_type": "text",
        "id": "C9HmC2T4ld5B"
      },
      "source": [
        "# Overfit and underfit"
      ]
    },
    {
      "cell_type": "markdown",
      "metadata": {
        "colab_type": "text",
        "id": "WL8UoOTmGGsL"
      },
      "source": [
        "## Setup"
      ]
    },
    {
      "cell_type": "code",
      "metadata": {
        "colab_type": "code",
        "id": "5pZ8A2liqvgk",
        "outputId": "a68cac57-9548-4175-ceb9-6117dbcc85a3",
        "colab": {
          "base_uri": "https://localhost:8080/",
          "height": 50
        }
      },
      "source": [
        "from __future__ import absolute_import, division, print_function, unicode_literals\n",
        "\n",
        "try:\n",
        "  # %tensorflow_version only exists in Colab.\n",
        "  %tensorflow_version 2.x\n",
        "except Exception:\n",
        "  pass\n",
        "import tensorflow as tf\n",
        "\n",
        "from tensorflow.keras import layers\n",
        "from tensorflow.keras import regularizers\n",
        "\n",
        "print(tf.__version__)"
      ],
      "execution_count": 1,
      "outputs": [
        {
          "output_type": "stream",
          "text": [
            "TensorFlow 2.x selected.\n",
            "2.0.0\n"
          ],
          "name": "stdout"
        }
      ]
    },
    {
      "cell_type": "code",
      "metadata": {
        "colab_type": "code",
        "id": "QnAtAjqRYVXe",
        "outputId": "57333340-3c64-4090-e3ef-42da372f0730",
        "colab": {
          "base_uri": "https://localhost:8080/",
          "height": 34
        }
      },
      "source": [
        "!pip install -q git+https://github.com/tensorflow/docs\n",
        "\n",
        "import tensorflow_docs as tfdocs\n",
        "import tensorflow_docs.modeling\n",
        "import tensorflow_docs.plots"
      ],
      "execution_count": 2,
      "outputs": [
        {
          "output_type": "stream",
          "text": [
            "  Building wheel for tensorflow-docs (setup.py) ... \u001b[?25l\u001b[?25hdone\n"
          ],
          "name": "stdout"
        }
      ]
    },
    {
      "cell_type": "code",
      "metadata": {
        "colab_type": "code",
        "id": "-pnOU-ctX27Q",
        "colab": {}
      },
      "source": [
        "from  IPython import display\n",
        "from matplotlib import pyplot as plt\n",
        "\n",
        "import numpy as np\n",
        "\n",
        "import pathlib\n",
        "import shutil\n",
        "import tempfile\n"
      ],
      "execution_count": 0,
      "outputs": []
    },
    {
      "cell_type": "code",
      "metadata": {
        "colab_type": "code",
        "id": "jj6I4dvTtbUe",
        "colab": {}
      },
      "source": [
        "logdir = pathlib.Path(tempfile.mkdtemp())/\"tensorboard_logs\"\n",
        "shutil.rmtree(logdir, ignore_errors=True)"
      ],
      "execution_count": 0,
      "outputs": []
    },
    {
      "cell_type": "markdown",
      "metadata": {
        "colab_type": "text",
        "id": "1cweoTiruj8O"
      },
      "source": [
        "\n",
        "## The Higgs Dataset"
      ]
    },
    {
      "cell_type": "code",
      "metadata": {
        "colab_type": "code",
        "id": "YPjAvwb-6dFd",
        "outputId": "96778232-550b-4e7c-c283-66c9d3e66c0e",
        "colab": {
          "base_uri": "https://localhost:8080/",
          "height": 50
        }
      },
      "source": [
        "gz = tf.keras.utils.get_file('HIGGS.csv.gz', 'https://archive.ics.uci.edu/ml/machine-learning-databases/00280/HIGGS.csv.gz')"
      ],
      "execution_count": 5,
      "outputs": [
        {
          "output_type": "stream",
          "text": [
            "Downloading data from https://archive.ics.uci.edu/ml/machine-learning-databases/00280/HIGGS.csv.gz\n",
            "2816409600/2816407858 [==============================] - 29s 0us/step\n"
          ],
          "name": "stdout"
        }
      ]
    },
    {
      "cell_type": "code",
      "metadata": {
        "colab_type": "code",
        "id": "AkiyUdaWIrww",
        "colab": {}
      },
      "source": [
        "FEATURES = 28"
      ],
      "execution_count": 0,
      "outputs": []
    },
    {
      "cell_type": "code",
      "metadata": {
        "colab_type": "code",
        "id": "QHz4sLVQEVIU",
        "colab": {}
      },
      "source": [
        "ds = tf.data.experimental.CsvDataset(gz,[float(),]*(FEATURES+1), compression_type=\"GZIP\")"
      ],
      "execution_count": 0,
      "outputs": []
    },
    {
      "cell_type": "code",
      "metadata": {
        "colab_type": "code",
        "id": "zPD6ICDlF6Wf",
        "colab": {}
      },
      "source": [
        "def pack_row(*row):\n",
        "  label = row[0]\n",
        "  features = tf.stack(row[1:],1)\n",
        "  return features, label"
      ],
      "execution_count": 0,
      "outputs": []
    },
    {
      "cell_type": "code",
      "metadata": {
        "colab_type": "code",
        "id": "-w-VHTwwGVoZ",
        "colab": {}
      },
      "source": [
        "packed_ds = ds.batch(10000).map(pack_row).unbatch()"
      ],
      "execution_count": 0,
      "outputs": []
    },
    {
      "cell_type": "code",
      "metadata": {
        "colab_type": "code",
        "id": "TfcXuv33Fvka",
        "outputId": "3fe95009-3d8b-433e-a406-c3f4e8a19135",
        "colab": {
          "base_uri": "https://localhost:8080/",
          "height": 366
        }
      },
      "source": [
        "for features,label in packed_ds.batch(1000).take(1):\n",
        "  print(features[0])\n",
        "  plt.hist(features.numpy().flatten(), bins = 101)"
      ],
      "execution_count": 10,
      "outputs": [
        {
          "output_type": "stream",
          "text": [
            "tf.Tensor(\n",
            "[ 0.8692932  -0.6350818   0.22569026  0.32747006 -0.6899932   0.75420225\n",
            " -0.24857314 -1.0920639   0.          1.3749921  -0.6536742   0.9303491\n",
            "  1.1074361   1.1389043  -1.5781983  -1.0469854   0.          0.65792954\n",
            " -0.01045457 -0.04576717  3.1019614   1.35376     0.9795631   0.97807616\n",
            "  0.92000484  0.72165745  0.98875093  0.87667835], shape=(28,), dtype=float32)\n"
          ],
          "name": "stdout"
        },
        {
          "output_type": "display_data",
          "data": {
            "image/png": "[encoded data removed]",
            "text/plain": [
              "<Figure size 432x288 with 1 Axes>"
            ]
          },
          "metadata": {
            "tags": []
          }
        }
      ]
    },
    {
      "cell_type": "code",
      "metadata": {
        "colab_type": "code",
        "id": "hmk49OqZIFZP",
        "colab": {}
      },
      "source": [
        "N_VALIDATION = int(1e3)\n",
        "N_TRAIN = int(1e4)\n",
        "BUFFER_SIZE = int(1e4)\n",
        "BATCH_SIZE = 500\n",
        "STEPS_PER_EPOCH = N_TRAIN//BATCH_SIZE"
      ],
      "execution_count": 0,
      "outputs": []
    },
    {
      "cell_type": "code",
      "metadata": {
        "colab_type": "code",
        "id": "H8H_ZzpBOOk-",
        "colab": {}
      },
      "source": [
        "validate_ds = packed_ds.take(N_VALIDATION).cache()\n",
        "train_ds = packed_ds.skip(N_VALIDATION).take(N_TRAIN).cache()"
      ],
      "execution_count": 0,
      "outputs": []
    },
    {
      "cell_type": "code",
      "metadata": {
        "colab_type": "code",
        "id": "9zAOqk2_Px7K",
        "outputId": "99adff34-2c79-4751-a539-8c012e63c3dd",
        "colab": {
          "base_uri": "https://localhost:8080/",
          "height": 34
        }
      },
      "source": [
        "train_ds"
      ],
      "execution_count": 13,
      "outputs": [
        {
          "output_type": "execute_result",
          "data": {
            "text/plain": [
              "<CacheDataset shapes: ((28,), ()), types: (tf.float32, tf.float32)>"
            ]
          },
          "metadata": {
            "tags": []
          },
          "execution_count": 13
        }
      ]
    },
    {
      "cell_type": "code",
      "metadata": {
        "colab_type": "code",
        "id": "Y7I4J355O223",
        "colab": {}
      },
      "source": [
        "validate_ds = validate_ds.batch(BATCH_SIZE)\n",
        "train_ds = train_ds.shuffle(BUFFER_SIZE).repeat().batch(BATCH_SIZE)"
      ],
      "execution_count": 0,
      "outputs": []
    },
    {
      "cell_type": "markdown",
      "metadata": {
        "colab_type": "text",
        "id": "lglk41MwvU5o"
      },
      "source": [
        "## Demonstrate overfitting\n"
      ]
    },
    {
      "cell_type": "markdown",
      "metadata": {
        "colab_type": "text",
        "id": "_ReKHdC2EgVu"
      },
      "source": [
        "### Training procedure"
      ]
    },
    {
      "cell_type": "code",
      "metadata": {
        "colab_type": "code",
        "id": "LwQp-ERhAD6F",
        "colab": {}
      },
      "source": [
        "lr_schedule = tf.keras.optimizers.schedules.InverseTimeDecay(\n",
        "  0.001,\n",
        "  decay_steps=STEPS_PER_EPOCH*1000,\n",
        "  decay_rate=1,\n",
        "  staircase=False)\n",
        "\n",
        "def get_optimizer():\n",
        "  return tf.keras.optimizers.Adam(lr_schedule)"
      ],
      "execution_count": 0,
      "outputs": []
    },
    {
      "cell_type": "code",
      "metadata": {
        "colab_type": "code",
        "id": "HIo_yPjEAFgn",
        "outputId": "2e9ecdf6-8842-45a3-947b-fe210735d0ac",
        "colab": {
          "base_uri": "https://localhost:8080/",
          "height": 388
        }
      },
      "source": [
        "step = np.linspace(0,100000)\n",
        "lr = lr_schedule(step)\n",
        "plt.figure(figsize = (8,6))\n",
        "plt.plot(step/STEPS_PER_EPOCH, lr)\n",
        "plt.ylim([0,max(plt.ylim())])\n",
        "plt.xlabel('Epoch')\n",
        "_ = plt.ylabel('Learning Rate')\n"
      ],
      "execution_count": 16,
      "outputs": [
        {
          "output_type": "display_data",
          "data": {
            "image/png": "[encoded data removed]",
            "text/plain": [
              "<Figure size 576x432 with 1 Axes>"
            ]
          },
          "metadata": {
            "tags": []
          }
        }
      ]
    },
    {
      "cell_type": "code",
      "metadata": {
        "colab_type": "code",
        "id": "vSv8rfw_T85n",
        "colab": {}
      },
      "source": [
        "def get_callbacks(name):\n",
        "  return [\n",
        "    tfdocs.modeling.EpochDots(),\n",
        "    tf.keras.callbacks.EarlyStopping(monitor='val_binary_crossentropy', patience=200),\n",
        "    tf.keras.callbacks.TensorBoard(logdir/name),\n",
        "  ]"
      ],
      "execution_count": 0,
      "outputs": []
    },
    {
      "cell_type": "code",
      "metadata": {
        "colab_type": "code",
        "id": "xRCGwU3YH5sT",
        "colab": {}
      },
      "source": [
        "def compile_and_fit(model, name, optimizer=None, max_epochs=10000):\n",
        "  if optimizer is None:\n",
        "    optimizer = get_optimizer()\n",
        "  model.compile(optimizer=optimizer,\n",
        "                loss='binary_crossentropy',\n",
        "                metrics=['accuracy', 'binary_crossentropy'])\n",
        "\n",
        "  model.summary()\n",
        "\n",
        "  history = model.fit(\n",
        "    train_ds,\n",
        "    steps_per_epoch = STEPS_PER_EPOCH,\n",
        "    epochs=max_epochs,\n",
        "    validation_data=validate_ds,\n",
        "    callbacks=get_callbacks(name),\n",
        "    verbose=0)\n",
        "  return history"
      ],
      "execution_count": 0,
      "outputs": []
    },
    {
      "cell_type": "markdown",
      "metadata": {
        "colab_type": "text",
        "id": "mxBeiLUiWHJV"
      },
      "source": [
        "### Tiny model"
      ]
    },
    {
      "cell_type": "code",
      "metadata": {
        "colab_type": "code",
        "id": "EZh-QFjKHb70",
        "colab": {}
      },
      "source": [
        "tiny_model = tf.keras.Sequential([\n",
        "    layers.Dense(16, activation='elu', input_shape=(FEATURES,)),\n",
        "    layers.Dense(1, activation='sigmoid')\n",
        "])"
      ],
      "execution_count": 0,
      "outputs": []
    },
    {
      "cell_type": "code",
      "metadata": {
        "colab_type": "code",
        "id": "X72IUdWYipIS",
        "colab": {}
      },
      "source": [
        "size_histories = {}"
      ],
      "execution_count": 0,
      "outputs": []
    },
    {
      "cell_type": "code",
      "metadata": {
        "colab_type": "code",
        "id": "bdOcJtPGHhJ5",
        "outputId": "f50d75bf-1037-4cfe-d4f5-dbcbc4d3b7ea",
        "colab": {
          "base_uri": "https://localhost:8080/",
          "height": 726
        }
      },
      "source": [
        "size_histories['Tiny'] = compile_and_fit(tiny_model, 'sizes/Tiny')"
      ],
      "execution_count": 21,
      "outputs": [
        {
          "output_type": "stream",
          "text": [
            "Model: \"sequential\"\n",
            "_________________________________________________________________\n",
            "Layer (type)                 Output Shape              Param #   \n",
            "=================================================================\n",
            "dense (Dense)                (None, 16)                464       \n",
            "_________________________________________________________________\n",
            "dense_1 (Dense)              (None, 1)                 17        \n",
            "=================================================================\n",
            "Total params: 481\n",
            "Trainable params: 481\n",
            "Non-trainable params: 0\n",
            "_________________________________________________________________\n",
            "\n",
            "Epoch: 0, accuracy:0.4948,  binary_crossentropy:0.8507,  loss:0.8507,  val_accuracy:0.5320,  val_binary_crossentropy:0.7773,  val_loss:0.7773,  \n",
            "....................................................................................................\n",
            "Epoch: 100, accuracy:0.6403,  binary_crossentropy:0.6325,  loss:0.6325,  val_accuracy:0.6520,  val_binary_crossentropy:0.6271,  val_loss:0.6271,  \n",
            "....................................................................................................\n",
            "Epoch: 200, accuracy:0.6547,  binary_crossentropy:0.6243,  loss:0.6243,  val_accuracy:0.6610,  val_binary_crossentropy:0.6197,  val_loss:0.6197,  \n",
            "....................................................................................................\n",
            "Epoch: 300, accuracy:0.6632,  binary_crossentropy:0.6193,  loss:0.6193,  val_accuracy:0.6610,  val_binary_crossentropy:0.6171,  val_loss:0.6171,  \n",
            "....................................................................................................\n",
            "Epoch: 400, accuracy:0.6666,  binary_crossentropy:0.6137,  loss:0.6137,  val_accuracy:0.6550,  val_binary_crossentropy:0.6115,  val_loss:0.6115,  \n",
            "....................................................................................................\n",
            "Epoch: 500, accuracy:0.6755,  binary_crossentropy:0.6078,  loss:0.6078,  val_accuracy:0.6690,  val_binary_crossentropy:0.6044,  val_loss:0.6044,  \n",
            "....................................................................................................\n",
            "Epoch: 600, accuracy:0.6820,  binary_crossentropy:0.6024,  loss:0.6024,  val_accuracy:0.6810,  val_binary_crossentropy:0.5985,  val_loss:0.5985,  \n",
            "....................................................................................................\n",
            "Epoch: 700, accuracy:0.6848,  binary_crossentropy:0.5974,  loss:0.5974,  val_accuracy:0.6760,  val_binary_crossentropy:0.5953,  val_loss:0.5953,  \n",
            "....................................................................................................\n",
            "Epoch: 800, accuracy:0.6897,  binary_crossentropy:0.5933,  loss:0.5933,  val_accuracy:0.6810,  val_binary_crossentropy:0.5913,  val_loss:0.5913,  \n",
            "....................................................................................................\n",
            "Epoch: 900, accuracy:0.6929,  binary_crossentropy:0.5907,  loss:0.5907,  val_accuracy:0.6810,  val_binary_crossentropy:0.5896,  val_loss:0.5896,  \n",
            "....................................................................................................\n",
            "Epoch: 1000, accuracy:0.6926,  binary_crossentropy:0.5883,  loss:0.5883,  val_accuracy:0.6900,  val_binary_crossentropy:0.5893,  val_loss:0.5893,  \n",
            "....................................................................................................\n",
            "Epoch: 1100, accuracy:0.6958,  binary_crossentropy:0.5870,  loss:0.5870,  val_accuracy:0.6930,  val_binary_crossentropy:0.5887,  val_loss:0.5887,  \n",
            "....................................................................................................\n",
            "Epoch: 1200, accuracy:0.6952,  binary_crossentropy:0.5853,  loss:0.5853,  val_accuracy:0.6980,  val_binary_crossentropy:0.5893,  val_loss:0.5893,  \n",
            "....................................................................................................\n",
            "Epoch: 1300, accuracy:0.6980,  binary_crossentropy:0.5844,  loss:0.5844,  val_accuracy:0.6930,  val_binary_crossentropy:0.5881,  val_loss:0.5881,  \n",
            ".................................................................................."
          ],
          "name": "stdout"
        }
      ]
    },
    {
      "cell_type": "code",
      "metadata": {
        "colab_type": "code",
        "id": "dkEvb2x5XsjE",
        "outputId": "c54b0e2b-9100-43fd-9fe4-a708914ee919",
        "colab": {
          "base_uri": "https://localhost:8080/",
          "height": 300
        }
      },
      "source": [
        "plotter = tfdocs.plots.HistoryPlotter(metric = 'binary_crossentropy', smoothing_std=10)\n",
        "plotter.plot(size_histories)\n",
        "plt.ylim([0.5, 0.7])"
      ],
      "execution_count": 22,
      "outputs": [
        {
          "output_type": "execute_result",
          "data": {
            "text/plain": [
              "(0.5, 0.7)"
            ]
          },
          "metadata": {
            "tags": []
          },
          "execution_count": 22
        },
        {
          "output_type": "display_data",
          "data": {
            "image/png": "[encoded data removed]",
            "text/plain": [
              "<Figure size 432x288 with 1 Axes>"
            ]
          },
          "metadata": {
            "tags": []
          }
        }
      ]
    },
    {
      "cell_type": "markdown",
      "metadata": {
        "colab_type": "text",
        "id": "LGxGzh_FWOJ8"
      },
      "source": [
        "### Small model"
      ]
    },
    {
      "cell_type": "code",
      "metadata": {
        "colab_type": "code",
        "id": "QKgdXPx9usBa",
        "colab": {}
      },
      "source": [
        "small_model = tf.keras.Sequential([\n",
        "    # `input_shape` is only required here so that `.summary` works.\n",
        "    layers.Dense(16, activation='elu', input_shape=(FEATURES,)),\n",
        "    layers.Dense(16, activation='elu'),\n",
        "    layers.Dense(1, activation='sigmoid')\n",
        "])"
      ],
      "execution_count": 0,
      "outputs": []
    },
    {
      "cell_type": "code",
      "metadata": {
        "colab_type": "code",
        "id": "LqG3MXF5xSjR",
        "outputId": "9a72fc40-79f7-4307-8030-6126c77887a3",
        "colab": {
          "base_uri": "https://localhost:8080/",
          "height": 558
        }
      },
      "source": [
        "size_histories['Small'] = compile_and_fit(small_model, 'sizes/Small')"
      ],
      "execution_count": 24,
      "outputs": [
        {
          "output_type": "stream",
          "text": [
            "Model: \"sequential_1\"\n",
            "_________________________________________________________________\n",
            "Layer (type)                 Output Shape              Param #   \n",
            "=================================================================\n",
            "dense_2 (Dense)              (None, 16)                464       \n",
            "_________________________________________________________________\n",
            "dense_3 (Dense)              (None, 16)                272       \n",
            "_________________________________________________________________\n",
            "dense_4 (Dense)              (None, 1)                 17        \n",
            "=================================================================\n",
            "Total params: 753\n",
            "Trainable params: 753\n",
            "Non-trainable params: 0\n",
            "_________________________________________________________________\n",
            "\n",
            "Epoch: 0, accuracy:0.5045,  binary_crossentropy:0.7679,  loss:0.7679,  val_accuracy:0.5050,  val_binary_crossentropy:0.7216,  val_loss:0.7216,  \n",
            "....................................................................................................\n",
            "Epoch: 100, accuracy:0.6643,  binary_crossentropy:0.6141,  loss:0.6141,  val_accuracy:0.6590,  val_binary_crossentropy:0.6185,  val_loss:0.6185,  \n",
            "....................................................................................................\n",
            "Epoch: 200, accuracy:0.6805,  binary_crossentropy:0.5942,  loss:0.5942,  val_accuracy:0.6640,  val_binary_crossentropy:0.6091,  val_loss:0.6091,  \n",
            "....................................................................................................\n",
            "Epoch: 300, accuracy:0.6962,  binary_crossentropy:0.5811,  loss:0.5811,  val_accuracy:0.6720,  val_binary_crossentropy:0.6060,  val_loss:0.6060,  \n",
            "....................................................................................................\n",
            "Epoch: 400, accuracy:0.7024,  binary_crossentropy:0.5744,  loss:0.5744,  val_accuracy:0.6700,  val_binary_crossentropy:0.6058,  val_loss:0.6058,  \n",
            "....................................................................................................\n",
            "Epoch: 500, accuracy:0.7055,  binary_crossentropy:0.5684,  loss:0.5684,  val_accuracy:0.6760,  val_binary_crossentropy:0.6026,  val_loss:0.6026,  \n",
            "....................................................................................................\n",
            "Epoch: 600, accuracy:0.7092,  binary_crossentropy:0.5638,  loss:0.5638,  val_accuracy:0.6800,  val_binary_crossentropy:0.6033,  val_loss:0.6033,  \n",
            "....................................................................................................\n",
            "Epoch: 700, accuracy:0.7101,  binary_crossentropy:0.5610,  loss:0.5610,  val_accuracy:0.6760,  val_binary_crossentropy:0.6038,  val_loss:0.6038,  \n",
            "............................................................................"
          ],
          "name": "stdout"
        }
      ]
    },
    {
      "cell_type": "markdown",
      "metadata": {
        "colab_type": "text",
        "id": "L-DGRBbGxI6G"
      },
      "source": [
        "### Medium model"
      ]
    },
    {
      "cell_type": "code",
      "metadata": {
        "colab_type": "code",
        "id": "jksi-XtaxDAh",
        "colab": {}
      },
      "source": [
        "medium_model = tf.keras.Sequential([\n",
        "    layers.Dense(64, activation='elu', input_shape=(FEATURES,)),\n",
        "    layers.Dense(64, activation='elu'),\n",
        "    layers.Dense(64, activation='elu'),\n",
        "    layers.Dense(1, activation='sigmoid')\n",
        "])"
      ],
      "execution_count": 0,
      "outputs": []
    },
    {
      "cell_type": "code",
      "metadata": {
        "colab_type": "code",
        "id": "Ofn1AwDhx-Fe",
        "outputId": "4e420abd-1df1-460c-b71d-4541983f0945",
        "colab": {
          "base_uri": "https://localhost:8080/",
          "height": 423
        }
      },
      "source": [
        "size_histories['Medium']  = compile_and_fit(medium_model, \"sizes/Medium\")"
      ],
      "execution_count": 26,
      "outputs": [
        {
          "output_type": "stream",
          "text": [
            "Model: \"sequential_2\"\n",
            "_________________________________________________________________\n",
            "Layer (type)                 Output Shape              Param #   \n",
            "=================================================================\n",
            "dense_5 (Dense)              (None, 64)                1856      \n",
            "_________________________________________________________________\n",
            "dense_6 (Dense)              (None, 64)                4160      \n",
            "_________________________________________________________________\n",
            "dense_7 (Dense)              (None, 64)                4160      \n",
            "_________________________________________________________________\n",
            "dense_8 (Dense)              (None, 1)                 65        \n",
            "=================================================================\n",
            "Total params: 10,241\n",
            "Trainable params: 10,241\n",
            "Non-trainable params: 0\n",
            "_________________________________________________________________\n",
            "\n",
            "Epoch: 0, accuracy:0.5630,  binary_crossentropy:0.6838,  loss:0.6838,  val_accuracy:0.5930,  val_binary_crossentropy:0.6714,  val_loss:0.6714,  \n",
            "....................................................................................................\n",
            "Epoch: 100, accuracy:0.7348,  binary_crossentropy:0.5298,  loss:0.5298,  val_accuracy:0.6850,  val_binary_crossentropy:0.5997,  val_loss:0.5997,  \n",
            "....................................................................................................\n",
            "Epoch: 200, accuracy:0.8016,  binary_crossentropy:0.4314,  loss:0.4314,  val_accuracy:0.6590,  val_binary_crossentropy:0.6754,  val_loss:0.6754,  \n",
            ".............................................................................."
          ],
          "name": "stdout"
        }
      ]
    },
    {
      "cell_type": "markdown",
      "metadata": {
        "colab_type": "text",
        "id": "vIPuf23FFaVn"
      },
      "source": [
        "### Large model"
      ]
    },
    {
      "cell_type": "code",
      "metadata": {
        "colab_type": "code",
        "id": "ghQwwqwqvQM9",
        "colab": {}
      },
      "source": [
        "large_model = tf.keras.Sequential([\n",
        "    layers.Dense(512, activation='elu', input_shape=(FEATURES,)),\n",
        "    layers.Dense(512, activation='elu'),\n",
        "    layers.Dense(512, activation='elu'),\n",
        "    layers.Dense(512, activation='elu'),\n",
        "    layers.Dense(1, activation='sigmoid')\n",
        "])"
      ],
      "execution_count": 0,
      "outputs": []
    },
    {
      "cell_type": "code",
      "metadata": {
        "colab_type": "code",
        "id": "U1A99dhqvepf",
        "outputId": "c99c31f8-a169-4130-f160-1453d8587bbf",
        "colab": {
          "base_uri": "https://localhost:8080/",
          "height": 457
        }
      },
      "source": [
        "size_histories['large'] = compile_and_fit(large_model, \"sizes/large\")"
      ],
      "execution_count": 28,
      "outputs": [
        {
          "output_type": "stream",
          "text": [
            "Model: \"sequential_3\"\n",
            "_________________________________________________________________\n",
            "Layer (type)                 Output Shape              Param #   \n",
            "=================================================================\n",
            "dense_9 (Dense)              (None, 512)               14848     \n",
            "_________________________________________________________________\n",
            "dense_10 (Dense)             (None, 512)               262656    \n",
            "_________________________________________________________________\n",
            "dense_11 (Dense)             (None, 512)               262656    \n",
            "_________________________________________________________________\n",
            "dense_12 (Dense)             (None, 512)               262656    \n",
            "_________________________________________________________________\n",
            "dense_13 (Dense)             (None, 1)                 513       \n",
            "=================================================================\n",
            "Total params: 803,329\n",
            "Trainable params: 803,329\n",
            "Non-trainable params: 0\n",
            "_________________________________________________________________\n",
            "\n",
            "Epoch: 0, accuracy:0.5224,  binary_crossentropy:0.7840,  loss:0.7840,  val_accuracy:0.5770,  val_binary_crossentropy:0.6801,  val_loss:0.6801,  \n",
            "....................................................................................................\n",
            "Epoch: 100, accuracy:1.0000,  binary_crossentropy:0.0020,  loss:0.0020,  val_accuracy:0.6610,  val_binary_crossentropy:1.7745,  val_loss:1.7745,  \n",
            "....................................................................................................\n",
            "Epoch: 200, accuracy:1.0000,  binary_crossentropy:0.0001,  loss:0.0001,  val_accuracy:0.6620,  val_binary_crossentropy:2.3825,  val_loss:2.3825,  \n",
            "..................."
          ],
          "name": "stdout"
        }
      ]
    },
    {
      "cell_type": "markdown",
      "metadata": {
        "colab_type": "text",
        "id": "Fy3CMUZpzH3d"
      },
      "source": [
        "### Plot the training and validation losses"
      ]
    },
    {
      "cell_type": "code",
      "metadata": {
        "colab_type": "code",
        "id": "0XmKDtOWzOpk",
        "outputId": "281a0c5f-3deb-4f02-f816-a5b2a3f6caee",
        "colab": {
          "base_uri": "https://localhost:8080/",
          "height": 304
        }
      },
      "source": [
        "plotter.plot(size_histories)\n",
        "a = plt.xscale('log')\n",
        "plt.xlim([5, max(plt.xlim())])\n",
        "plt.ylim([0.5, 0.7])\n",
        "plt.xlabel(\"Epochs [Log Scale]\")"
      ],
      "execution_count": 29,
      "outputs": [
        {
          "output_type": "execute_result",
          "data": {
            "text/plain": [
              "Text(0.5, 0, 'Epochs [Log Scale]')"
            ]
          },
          "metadata": {
            "tags": []
          },
          "execution_count": 29
        },
        {
          "output_type": "display_data",
          "data": {
            "image/png": "[encoded data removed]",
            "text/plain": [
              "<Figure size 432x288 with 1 Axes>"
            ]
          },
          "metadata": {
            "tags": []
          }
        }
      ]
    },
    {
      "cell_type": "code",
      "metadata": {
        "colab_type": "code",
        "id": "dX5fcgrADwym",
        "outputId": "9b9678f9-b960-4210-a5ef-a55fc4ef0a8a",
        "colab": {
          "base_uri": "https://localhost:8080/",
          "height": 821
        }
      },
      "source": [
        "display.IFrame(\n",
        "    src=\"https://tensorboard.dev/experiment/vW7jmmF9TmKmy3rbheMQpw/#scalars&_smoothingWeight=0.97\",\n",
        "    width=\"100%\", height=\"800px\")"
      ],
      "execution_count": 30,
      "outputs": [
        {
          "output_type": "execute_result",
          "data": {
            "text/html": [
              "\n",
              "        <iframe\n",
              "            width=\"100%\"\n",
              "            height=\"800px\"\n",
              "            src=\"https://tensorboard.dev/experiment/vW7jmmF9TmKmy3rbheMQpw/#scalars&_smoothingWeight=0.97\"\n",
              "            frameborder=\"0\"\n",
              "            allowfullscreen\n",
              "        ></iframe>\n",
              "        "
            ],
            "text/plain": [
              "<IPython.lib.display.IFrame at 0x7f9199391240>"
            ]
          },
          "metadata": {
            "tags": []
          },
          "execution_count": 30
        }
      ]
    },
    {
      "cell_type": "markdown",
      "metadata": {
        "colab_type": "text",
        "id": "ASdv7nsgEFhx"
      },
      "source": [
        "## Strategies to prevent overfitting"
      ]
    },
    {
      "cell_type": "code",
      "metadata": {
        "colab_type": "code",
        "id": "40k1eBtnQzNo",
        "outputId": "b998bd41-c6c3-46b0-b241-1f4bfa572f3f",
        "colab": {
          "base_uri": "https://localhost:8080/",
          "height": 34
        }
      },
      "source": [
        "shutil.rmtree(logdir/'regularizers/Tiny', ignore_errors=True)\n",
        "shutil.copytree(logdir/'sizes/Tiny', logdir/'regularizers/Tiny')"
      ],
      "execution_count": 31,
      "outputs": [
        {
          "output_type": "execute_result",
          "data": {
            "text/plain": [
              "PosixPath('/tmp/tmpa8wuq9x7/tensorboard_logs/regularizers/Tiny')"
            ]
          },
          "metadata": {
            "tags": []
          },
          "execution_count": 31
        }
      ]
    },
    {
      "cell_type": "code",
      "metadata": {
        "colab_type": "code",
        "id": "vFWMeFo7jLpN",
        "colab": {}
      },
      "source": [
        "regularizer_histories = {}\n",
        "regularizer_histories['Tiny'] = size_histories['Tiny']"
      ],
      "execution_count": 0,
      "outputs": []
    },
    {
      "cell_type": "markdown",
      "metadata": {
        "colab_type": "text",
        "id": "4rHoVWcswFLa"
      },
      "source": [
        "### Add weight regularization\n",
        "\n"
      ]
    },
    {
      "cell_type": "code",
      "metadata": {
        "colab_type": "code",
        "id": "HFGmcwduwVyQ",
        "outputId": "50407bf3-9af3-412e-a0df-d6173447ed84",
        "colab": {
          "base_uri": "https://localhost:8080/",
          "height": 625
        }
      },
      "source": [
        "l2_model = tf.keras.Sequential([\n",
        "    layers.Dense(512, activation='elu',\n",
        "                 kernel_regularizer=regularizers.l2(0.001),\n",
        "                 input_shape=(FEATURES,)),\n",
        "    layers.Dense(512, activation='elu',\n",
        "                 kernel_regularizer=regularizers.l2(0.001)),\n",
        "    layers.Dense(512, activation='elu',\n",
        "                 kernel_regularizer=regularizers.l2(0.001)),\n",
        "    layers.Dense(512, activation='elu',\n",
        "                 kernel_regularizer=regularizers.l2(0.001)),\n",
        "    layers.Dense(1, activation='sigmoid')\n",
        "])\n",
        "\n",
        "regularizer_histories['l2'] = compile_and_fit(l2_model, \"regularizers/l2\")"
      ],
      "execution_count": 33,
      "outputs": [
        {
          "output_type": "stream",
          "text": [
            "Model: \"sequential_4\"\n",
            "_________________________________________________________________\n",
            "Layer (type)                 Output Shape              Param #   \n",
            "=================================================================\n",
            "dense_14 (Dense)             (None, 512)               14848     \n",
            "_________________________________________________________________\n",
            "dense_15 (Dense)             (None, 512)               262656    \n",
            "_________________________________________________________________\n",
            "dense_16 (Dense)             (None, 512)               262656    \n",
            "_________________________________________________________________\n",
            "dense_17 (Dense)             (None, 512)               262656    \n",
            "_________________________________________________________________\n",
            "dense_18 (Dense)             (None, 1)                 513       \n",
            "=================================================================\n",
            "Total params: 803,329\n",
            "Trainable params: 803,329\n",
            "Non-trainable params: 0\n",
            "_________________________________________________________________\n",
            "\n",
            "Epoch: 0, accuracy:0.5204,  binary_crossentropy:0.8299,  loss:2.3539,  val_accuracy:0.5480,  val_binary_crossentropy:0.6863,  val_loss:2.1382,  \n",
            "....................................................................................................\n",
            "Epoch: 100, accuracy:0.6762,  binary_crossentropy:0.5990,  loss:0.6221,  val_accuracy:0.6900,  val_binary_crossentropy:0.5946,  val_loss:0.6178,  \n",
            "....................................................................................................\n",
            "Epoch: 200, accuracy:0.6901,  binary_crossentropy:0.5833,  loss:0.6052,  val_accuracy:0.6890,  val_binary_crossentropy:0.5834,  val_loss:0.6055,  \n",
            "....................................................................................................\n",
            "Epoch: 300, accuracy:0.6951,  binary_crossentropy:0.5788,  loss:0.6005,  val_accuracy:0.6900,  val_binary_crossentropy:0.5818,  val_loss:0.6038,  \n",
            "....................................................................................................\n",
            "Epoch: 400, accuracy:0.7013,  binary_crossentropy:0.5696,  loss:0.5918,  val_accuracy:0.6870,  val_binary_crossentropy:0.5868,  val_loss:0.6089,  \n",
            "....................................................................................................\n",
            "Epoch: 500, accuracy:0.7094,  binary_crossentropy:0.5666,  loss:0.5890,  val_accuracy:0.7040,  val_binary_crossentropy:0.5829,  val_loss:0.6054,  \n",
            "....................................................................................................\n",
            "Epoch: 600, accuracy:0.7119,  binary_crossentropy:0.5573,  loss:0.5806,  val_accuracy:0.6930,  val_binary_crossentropy:0.5819,  val_loss:0.6052,  \n",
            "....................................................................................................\n",
            "Epoch: 700, accuracy:0.7173,  binary_crossentropy:0.5515,  loss:0.5758,  val_accuracy:0.7010,  val_binary_crossentropy:0.5888,  val_loss:0.6131,  \n",
            "........................"
          ],
          "name": "stdout"
        }
      ]
    },
    {
      "cell_type": "code",
      "metadata": {
        "colab_type": "code",
        "id": "7wkfLyxBZdh_",
        "outputId": "94430b7b-c76e-4435-ccae-638f6eacbd56",
        "colab": {
          "base_uri": "https://localhost:8080/",
          "height": 300
        }
      },
      "source": [
        "plotter.plot(regularizer_histories)\n",
        "plt.ylim([0.5, 0.7])"
      ],
      "execution_count": 34,
      "outputs": [
        {
          "output_type": "execute_result",
          "data": {
            "text/plain": [
              "(0.5, 0.7)"
            ]
          },
          "metadata": {
            "tags": []
          },
          "execution_count": 34
        },
        {
          "output_type": "display_data",
          "data": {
            "image/png": "[encoded data removed]",
            "text/plain": [
              "<Figure size 432x288 with 1 Axes>"
            ]
          },
          "metadata": {
            "tags": []
          }
        }
      ]
    },
    {
      "cell_type": "markdown",
      "metadata": {
        "colab_type": "text",
        "id": "JheBk6f8jMQ7"
      },
      "source": [
        "#### More info"
      ]
    },
    {
      "cell_type": "code",
      "metadata": {
        "colab_type": "code",
        "id": "apDHQNybjaML",
        "colab": {}
      },
      "source": [
        "result = l2_model(features)\n",
        "regularization_loss = tf.add_n(l2_model.losses)"
      ],
      "execution_count": 0,
      "outputs": []
    },
    {
      "cell_type": "markdown",
      "metadata": {
        "colab_type": "text",
        "id": "HmnBNOOVxiG8"
      },
      "source": [
        "### Add dropout"
      ]
    },
    {
      "cell_type": "code",
      "metadata": {
        "colab_type": "code",
        "id": "OFEYvtrHxSWS",
        "outputId": "34fd4d7e-a515-44c2-b7a5-378d3caed9ed",
        "colab": {
          "base_uri": "https://localhost:8080/",
          "height": 625
        }
      },
      "source": [
        "dropout_model = tf.keras.Sequential([\n",
        "    layers.Dense(512, activation='elu', input_shape=(FEATURES,)),\n",
        "    layers.Dropout(0.5),\n",
        "    layers.Dense(512, activation='elu'),\n",
        "    layers.Dropout(0.5),\n",
        "    layers.Dense(512, activation='elu'),\n",
        "    layers.Dropout(0.5),\n",
        "    layers.Dense(512, activation='elu'),\n",
        "    layers.Dropout(0.5),\n",
        "    layers.Dense(1, activation='sigmoid')\n",
        "])\n",
        "\n",
        "regularizer_histories['dropout'] = compile_and_fit(dropout_model, \"regularizers/dropout\")"
      ],
      "execution_count": 36,
      "outputs": [
        {
          "output_type": "stream",
          "text": [
            "Model: \"sequential_5\"\n",
            "_________________________________________________________________\n",
            "Layer (type)                 Output Shape              Param #   \n",
            "=================================================================\n",
            "dense_19 (Dense)             (None, 512)               14848     \n",
            "_________________________________________________________________\n",
            "dropout (Dropout)            (None, 512)               0         \n",
            "_________________________________________________________________\n",
            "dense_20 (Dense)             (None, 512)               262656    \n",
            "_________________________________________________________________\n",
            "dropout_1 (Dropout)          (None, 512)               0         \n",
            "_________________________________________________________________\n",
            "dense_21 (Dense)             (None, 512)               262656    \n",
            "_________________________________________________________________\n",
            "dropout_2 (Dropout)          (None, 512)               0         \n",
            "_________________________________________________________________\n",
            "dense_22 (Dense)             (None, 512)               262656    \n",
            "_________________________________________________________________\n",
            "dropout_3 (Dropout)          (None, 512)               0         \n",
            "_________________________________________________________________\n",
            "dense_23 (Dense)             (None, 1)                 513       \n",
            "=================================================================\n",
            "Total params: 803,329\n",
            "Trainable params: 803,329\n",
            "Non-trainable params: 0\n",
            "_________________________________________________________________\n",
            "\n",
            "Epoch: 0, accuracy:0.5113,  binary_crossentropy:0.8262,  loss:0.8262,  val_accuracy:0.5680,  val_binary_crossentropy:0.6755,  val_loss:0.6755,  \n",
            "....................................................................................................\n",
            "Epoch: 100, accuracy:0.6766,  binary_crossentropy:0.5975,  loss:0.5975,  val_accuracy:0.6940,  val_binary_crossentropy:0.5826,  val_loss:0.5826,  \n",
            "....................................................................................................\n",
            "Epoch: 200, accuracy:0.7134,  binary_crossentropy:0.5580,  loss:0.5580,  val_accuracy:0.6910,  val_binary_crossentropy:0.5832,  val_loss:0.5832,  \n",
            "....................................................................................................\n",
            "Epoch: 300, accuracy:0.7371,  binary_crossentropy:0.5134,  loss:0.5134,  val_accuracy:0.6890,  val_binary_crossentropy:0.6058,  val_loss:0.6058,  \n",
            "......................"
          ],
          "name": "stdout"
        }
      ]
    },
    {
      "cell_type": "code",
      "metadata": {
        "colab_type": "code",
        "id": "SPZqwVchx5xp",
        "outputId": "cbd46792-85ae-4f9d-f926-f075b460f440",
        "colab": {
          "base_uri": "https://localhost:8080/",
          "height": 300
        }
      },
      "source": [
        "plotter.plot(regularizer_histories)\n",
        "plt.ylim([0.5, 0.7])"
      ],
      "execution_count": 37,
      "outputs": [
        {
          "output_type": "execute_result",
          "data": {
            "text/plain": [
              "(0.5, 0.7)"
            ]
          },
          "metadata": {
            "tags": []
          },
          "execution_count": 37
        },
        {
          "output_type": "display_data",
          "data": {
            "image/png": "[encoded data removed]",
            "text/plain": [
              "<Figure size 432x288 with 1 Axes>"
            ]
          },
          "metadata": {
            "tags": []
          }
        }
      ]
    },
    {
      "cell_type": "markdown",
      "metadata": {
        "colab_type": "text",
        "id": "u7qMg_7Nwy5t"
      },
      "source": [
        "### Combined L2 + dropout"
      ]
    },
    {
      "cell_type": "code",
      "metadata": {
        "colab_type": "code",
        "id": "7zfs_qQIw1cz",
        "outputId": "c9c303fb-7e30-4976-ac63-5e1d14d81dbc",
        "colab": {
          "base_uri": "https://localhost:8080/",
          "height": 927
        }
      },
      "source": [
        "combined_model = tf.keras.Sequential([\n",
        "    layers.Dense(512, kernel_regularizer=regularizers.l2(0.0001),\n",
        "                 activation='elu', input_shape=(FEATURES,)),\n",
        "    layers.Dropout(0.5),\n",
        "    layers.Dense(512, kernel_regularizer=regularizers.l2(0.0001),\n",
        "                 activation='elu'),\n",
        "    layers.Dropout(0.5),\n",
        "    layers.Dense(512, kernel_regularizer=regularizers.l2(0.0001),\n",
        "                 activation='elu'),\n",
        "    layers.Dropout(0.5),\n",
        "    layers.Dense(512, kernel_regularizer=regularizers.l2(0.0001),\n",
        "                 activation='elu'),\n",
        "    layers.Dropout(0.5),\n",
        "    layers.Dense(1, activation='sigmoid')\n",
        "])\n",
        "\n",
        "regularizer_histories['combined'] = compile_and_fit(combined_model, \"regularizers/combined\")"
      ],
      "execution_count": 38,
      "outputs": [
        {
          "output_type": "stream",
          "text": [
            "Model: \"sequential_6\"\n",
            "_________________________________________________________________\n",
            "Layer (type)                 Output Shape              Param #   \n",
            "=================================================================\n",
            "dense_24 (Dense)             (None, 512)               14848     \n",
            "_________________________________________________________________\n",
            "dropout_4 (Dropout)          (None, 512)               0         \n",
            "_________________________________________________________________\n",
            "dense_25 (Dense)             (None, 512)               262656    \n",
            "_________________________________________________________________\n",
            "dropout_5 (Dropout)          (None, 512)               0         \n",
            "_________________________________________________________________\n",
            "dense_26 (Dense)             (None, 512)               262656    \n",
            "_________________________________________________________________\n",
            "dropout_6 (Dropout)          (None, 512)               0         \n",
            "_________________________________________________________________\n",
            "dense_27 (Dense)             (None, 512)               262656    \n",
            "_________________________________________________________________\n",
            "dropout_7 (Dropout)          (None, 512)               0         \n",
            "_________________________________________________________________\n",
            "dense_28 (Dense)             (None, 1)                 513       \n",
            "=================================================================\n",
            "Total params: 803,329\n",
            "Trainable params: 803,329\n",
            "Non-trainable params: 0\n",
            "_________________________________________________________________\n",
            "\n",
            "Epoch: 0, accuracy:0.5192,  binary_crossentropy:0.7931,  loss:0.9515,  val_accuracy:0.5650,  val_binary_crossentropy:0.6814,  val_loss:0.8392,  \n",
            "....................................................................................................\n",
            "Epoch: 100, accuracy:0.6753,  binary_crossentropy:0.6020,  loss:0.6322,  val_accuracy:0.6930,  val_binary_crossentropy:0.5862,  val_loss:0.6163,  \n",
            "....................................................................................................\n",
            "Epoch: 200, accuracy:0.6845,  binary_crossentropy:0.5892,  loss:0.6145,  val_accuracy:0.6940,  val_binary_crossentropy:0.5732,  val_loss:0.5985,  \n",
            "....................................................................................................\n",
            "Epoch: 300, accuracy:0.6911,  binary_crossentropy:0.5832,  loss:0.6112,  val_accuracy:0.7080,  val_binary_crossentropy:0.5681,  val_loss:0.5962,  \n",
            "....................................................................................................\n",
            "Epoch: 400, accuracy:0.6973,  binary_crossentropy:0.5773,  loss:0.6076,  val_accuracy:0.7120,  val_binary_crossentropy:0.5607,  val_loss:0.5910,  \n",
            "....................................................................................................\n",
            "Epoch: 500, accuracy:0.6985,  binary_crossentropy:0.5706,  loss:0.6031,  val_accuracy:0.7140,  val_binary_crossentropy:0.5507,  val_loss:0.5832,  \n",
            "....................................................................................................\n",
            "Epoch: 600, accuracy:0.7008,  binary_crossentropy:0.5704,  loss:0.6051,  val_accuracy:0.7160,  val_binary_crossentropy:0.5501,  val_loss:0.5848,  \n",
            "....................................................................................................\n",
            "Epoch: 700, accuracy:0.7040,  binary_crossentropy:0.5609,  loss:0.5975,  val_accuracy:0.7300,  val_binary_crossentropy:0.5448,  val_loss:0.5814,  \n",
            "....................................................................................................\n",
            "Epoch: 800, accuracy:0.7107,  binary_crossentropy:0.5588,  loss:0.5969,  val_accuracy:0.7130,  val_binary_crossentropy:0.5475,  val_loss:0.5856,  \n",
            "....................................................................................................\n",
            "Epoch: 900, accuracy:0.7129,  binary_crossentropy:0.5534,  loss:0.5930,  val_accuracy:0.7120,  val_binary_crossentropy:0.5470,  val_loss:0.5866,  \n",
            "....................................................................................................\n",
            "Epoch: 1000, accuracy:0.7117,  binary_crossentropy:0.5536,  loss:0.5945,  val_accuracy:0.7160,  val_binary_crossentropy:0.5400,  val_loss:0.5809,  \n",
            "....................................................................................................\n",
            "Epoch: 1100, accuracy:0.7131,  binary_crossentropy:0.5498,  loss:0.5917,  val_accuracy:0.7210,  val_binary_crossentropy:0.5433,  val_loss:0.5852,  \n",
            "....................................................................................................\n",
            "Epoch: 1200, accuracy:0.7213,  binary_crossentropy:0.5396,  loss:0.5827,  val_accuracy:0.7260,  val_binary_crossentropy:0.5425,  val_loss:0.5855,  \n",
            "................................................................................."
          ],
          "name": "stdout"
        }
      ]
    },
    {
      "cell_type": "code",
      "metadata": {
        "colab_type": "code",
        "id": "qDqBBxfI0Yd8",
        "outputId": "635cbeb3-d0e3-40fe-de5d-5331a1348148",
        "colab": {
          "base_uri": "https://localhost:8080/",
          "height": 300
        }
      },
      "source": [
        "plotter.plot(regularizer_histories)\n",
        "plt.ylim([0.5, 0.7])"
      ],
      "execution_count": 39,
      "outputs": [
        {
          "output_type": "execute_result",
          "data": {
            "text/plain": [
              "(0.5, 0.7)"
            ]
          },
          "metadata": {
            "tags": []
          },
          "execution_count": 39
        },
        {
          "output_type": "display_data",
          "data": {
            "image/png": "[encoded data removed]",
            "text/plain": [
              "<Figure size 432x288 with 1 Axes>"
            ]
          },
          "metadata": {
            "tags": []
          }
        }
      ]
    },
    {
      "cell_type": "markdown",
      "metadata": {
        "colab_type": "text",
        "id": "-dw23T03FEO1"
      },
      "source": [
        "### View in TensorBoard"
      ]
    },
    {
      "cell_type": "code",
      "metadata": {
        "colab_type": "code",
        "id": "doMtyYoqFEO5",
        "outputId": "c076a13f-47fc-4f71-c1aa-fb6f0abc6760",
        "colab": {
          "base_uri": "https://localhost:8080/",
          "height": 821
        }
      },
      "source": [
        "display.IFrame(\n",
        "    src=\"https://tensorboard.dev/experiment/fGInKDo8TXes1z7HQku9mw/#scalars&_smoothingWeight=0.97\",\n",
        "    width = \"100%\",\n",
        "    height=\"800px\")\n"
      ],
      "execution_count": 40,
      "outputs": [
        {
          "output_type": "execute_result",
          "data": {
            "text/html": [
              "\n",
              "        <iframe\n",
              "            width=\"100%\"\n",
              "            height=\"800px\"\n",
              "            src=\"https://tensorboard.dev/experiment/fGInKDo8TXes1z7HQku9mw/#scalars&_smoothingWeight=0.97\"\n",
              "            frameborder=\"0\"\n",
              "            allowfullscreen\n",
              "        ></iframe>\n",
              "        "
            ],
            "text/plain": [
              "<IPython.lib.display.IFrame at 0x7f918d2854e0>"
            ]
          },
          "metadata": {
            "tags": []
          },
          "execution_count": 40
        }
      ]
    }
  ]
}